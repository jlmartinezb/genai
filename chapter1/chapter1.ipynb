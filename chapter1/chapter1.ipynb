{
 "cells": [
  {
   "cell_type": "markdown",
   "id": "db1d4338",
   "metadata": {},
   "source": [
    "### Exercises for Chapter 1: Getting Started with Generative AI\n",
    "\n",
    "To solidify your understanding of the concepts covered  in this chapter, try the following exercises:"
   ]
  },
  {
   "cell_type": "markdown",
   "id": "8dd310a1",
   "metadata": {},
   "source": [
    "#### 1. Set Up Your Environment\n",
    "- Use the `install_package` function provided in the notebook to ensure all required libraries (`langchain_core`, `langchain_perplexity`, and `dotenv`) are installed in your environment.\n",
    "- Verify that your `.env` file contains the `PERPLEXITY_API_KEY`. If not, create one and set the key.\n",
    "\n",
    "You need to activate an API key to use the Perplexity API. This must be done from the Perplexity website. Once you obtain the API key, you can set it directly in the notebook using the following line of code api_key in the ChatPerplexity(api_key=\"api_key\",....) command."
   ]
  },
  {
   "cell_type": "code",
   "execution_count": 4,
   "id": "55de917c",
   "metadata": {},
   "outputs": [],
   "source": [
    "import sys\n",
    "import subprocess\n",
    "\n",
    "def install_package(package):\n",
    "    try:\n",
    "        __import__(package)\n",
    "    except ImportError:\n",
    "        print(f\"{package} is not installed. Installing...\")\n",
    "        subprocess.check_call([sys.executable, \"-m\", \"pip\", \"install\", package])\n",
    "\n",
    "install_package(\"langchain_core\")\n",
    "install_package(\"langchain_perplexity\")\n",
    "install_package(\"dotenv\")\n",
    "\n",
    "# Import required libraries\n",
    "from langchain_core.prompts import ChatPromptTemplate\n",
    "from langchain_perplexity import ChatPerplexity\n",
    "from dotenv import load_dotenv\n",
    "import os\n",
    "\n",
    "# Load the API key from the .env file\n",
    "load_dotenv()\n",
    "api_key = os.getenv(\"PERPLEXITY_API_KEY\")\n",
    "\n",
    "if not api_key:\n",
    "    raise ValueError(\"Perplexity API key not found. Make sure to set it in the .env file.\")"
   ]
  },
  {
   "cell_type": "markdown",
   "id": "56874efc",
   "metadata": {},
   "source": [
    "## 2. Experiment with Temperature\n",
    "- Modify the `temperature` parameter in the `ChatPerplexity` model initialization (e.g., 0.2, 0.5, 0.9).\n",
    "- Observe how the model's responses change with different temperature values. Which setting produces the most deterministic response? Which one is more creative?\n",
    "\n",
    "Subsequently, you can select the Perplexity model to use in the notebook using the following command ChatPerplexity(model=\"sonar\") where you can change the model to whichever model you want to use. The models are available on the Perplexity website: https://docs.perplexity.ai/models/model-cards"
   ]
  },
  {
   "cell_type": "code",
   "execution_count": 5,
   "id": "da0f5d98",
   "metadata": {},
   "outputs": [
    {
     "data": {
      "text/plain": [
       "AIMessage(content='The **capital of Spain is Madrid**[1][3].\\n\\nMadrid is the most populous municipality in Spain and serves as the seat of the Spanish government, housing both the royal residence and the official government offices[1]. It is located nearly at the geographical center of the Iberian Peninsula[3].\\n\\nMadrid officially became the capital in the mid-16th century. Philip II chose Madrid as the permanent capital of Spain around 1561, replacing the previous itinerant court system where the king moved around various cities[2][3][5]. This decision was influenced by Madrid’s central location within the Spanish territories, despite it not being the largest city at the time[5].\\n\\nIn summary, Madrid functions as both the political and administrative center of Spain, as well as the capital of the autonomous Community of Madrid, with extensive governmental institutions located there[1][3].', additional_kwargs={'citations': ['https://en.wikipedia.org/wiki/Madrid', 'https://pmc.ncbi.nlm.nih.gov/articles/PMC9200313/', 'https://www.britannica.com/place/Madrid', 'https://www.youtube.com/watch?v=eZ8kvS8Sd98', 'https://unchartedterritories.tomaspueyo.com/p/why-is-madrid-the-capital-of-spain']}, response_metadata={'model_name': 'sonar'}, id='run--3731e2fa-851f-4ed5-b2c1-5bc398de86f2-0', usage_metadata={'input_tokens': 7, 'output_tokens': 178, 'total_tokens': 185})"
      ]
     },
     "execution_count": 5,
     "metadata": {},
     "output_type": "execute_result"
    }
   ],
   "source": [
    "# Create a Perplexity model\n",
    "model = ChatPerplexity(api_key=api_key, model=\"sonar\", temperature=0.9)\n",
    "model.invoke(\"What´s the capital of Spain?\")"
   ]
  },
  {
   "cell_type": "markdown",
   "id": "99e00793",
   "metadata": {},
   "source": [
    "### 3. Custom Prompt Design\n",
    "- Create a custom prompt using `SystemMessage` and `HumanMessage` to guide the model's behavior.\n",
    "- For example, define a `SystemMessage` that sets the model as an expert in a specific domain (e.g., \"You are an expert in embedded systems.\") and ask a relevant question using `HumanMessage`.\n"
   ]
  },
  {
   "cell_type": "code",
   "execution_count": 6,
   "id": "6966847a",
   "metadata": {},
   "outputs": [
    {
     "data": {
      "text/plain": [
       "AIMessage(content='The **ESP32 microcontroller** is a low-cost, energy-efficient System-on-Chip (SoC) developed by Espressif that integrates a powerful processor with built-in Wi-Fi and Bluetooth connectivity. It typically features a dual-core or single-core Tensilica Xtensa LX6 or a RISC-V CPU, runs at clock speeds over 240 MHz, and includes integrated RAM, flash storage, and a rich set of input/output peripherals suitable for IoT and embedded applications[1][2][3][5].\\n\\nKey features of the ESP32 include:\\n\\n- **Wi-Fi and Bluetooth** support (including Bluetooth Low Energy), enabling wireless communication essential for IoT devices.\\n\\n- **Low power consumption** with various sleep modes for battery-powered applications.\\n\\n- **High processing power** with dual-core processors allowing for efficient multitasking and complex computations compared to older microcontrollers like Arduino Uno.\\n\\n- **Wide range of peripherals** such as ADC, DAC, UART, SPI, I2C, PWM, capacitive touch sensors, etc., making it highly versatile.\\n\\n- **Compatibility with popular programming environments** such as Arduino IDE and MicroPython, making it accessible for both beginners and experienced developers.\\n\\nThe ESP32 is widely used in IoT devices, wearable electronics, home automation, and various embedded system projects due to its combination of connectivity, performance, and cost-effectiveness[1][2][3][5].', additional_kwargs={'citations': ['https://www.nabto.com/guide-to-iot-esp-32/', 'https://randomnerdtutorials.com/getting-started-with-esp32/', 'https://blackdevice.com/understanding-esp32-from-basics-to-building-projects/', 'https://www.youtube.com/watch?v=UuxBfKA3U5M', 'https://en.wikipedia.org/wiki/ESP32']}, response_metadata={'model_name': 'sonar'}, id='run--c45d7e96-971e-4fcc-95b6-bd868150d8a2-0', usage_metadata={'input_tokens': 25, 'output_tokens': 281, 'total_tokens': 306})"
      ]
     },
     "execution_count": 6,
     "metadata": {},
     "output_type": "execute_result"
    }
   ],
   "source": [
    "from langchain_perplexity import ChatPerplexity\n",
    "from langchain.schema import SystemMessage, HumanMessage\n",
    "\n",
    "model = ChatPerplexity(api_key=api_key,\n",
    "           model=\"sonar\",\n",
    "           temperature=0.9)\n",
    "system_msg = SystemMessage(content=\n",
    "                           '''You are a helpful assistant. That are expert in Electonic and embeded System.''')\n",
    "user_msg = HumanMessage(content='''What is a esp32 microcontroller?''')\n",
    "\n",
    "messages = [system_msg, user_msg]\n",
    "model.invoke(messages)\n"
   ]
  },
  {
   "cell_type": "markdown",
   "id": "8e6e2f9e",
   "metadata": {},
   "source": [
    "### 4. Prompt Reuse with Templates\n",
    "- Use the `ChatPromptTemplate` class to create a reusable prompt template.\n",
    "- Define placeholder variables (e.g., `{context}` and `{question}`) and test the template with different inputs."
   ]
  },
  {
   "cell_type": "code",
   "execution_count": null,
   "id": "e12dbc5f",
   "metadata": {},
   "outputs": [],
   "source": [
    "# Reserved space to include the previous prompt text with context\n",
    "# You can copy and paste here the context you want to use in the prompt\n",
    "\n",
    "context = \"\"\"\n",
    "[Include here the context text you want to use in the prompt]\n",
    "\"\"\"\n",
    "\n",
    "# Example usage with the template and the model\n",
    "prompt_template = ChatPromptTemplate.from_messages([\n",
    "    (\"system\", \"Answer the following question using ONLY the provided text. If you don't know the answer, say you don't know.\"),\n",
    "    (\"human\", \"context: {context}\\nquestion: {question}\")\n",
    "])\n",
    "\n",
    "question = \"Is it capable of using MQTT?\"\n",
    "\n",
    "prompt_instance = prompt_template.invoke({\n",
    "    \"context\": context,\n",
    "    \"question\": question\n",
    "})\n",
    "\n",
    "response = model.invoke(prompt_instance)\n",
    "print(\"Model response:\")\n",
    "print(response)"
   ]
  },
  {
   "cell_type": "markdown",
   "id": "76930270",
   "metadata": {},
   "source": [
    "### 5. Structured Output\n",
    "- Implement the `answerWithJustificaction` class using `Pydantic` as shown in the notebook.\n",
    "- Use the `with_structured_output` method to ensure the model returns responses in a structured format.\n",
    "- Test the model with a question and inspect the JSON output."
   ]
  },
  {
   "cell_type": "code",
   "execution_count": 7,
   "id": "aba177b1",
   "metadata": {},
   "outputs": [
    {
     "data": {
      "text/plain": [
       "'{\\n  \"answer\": \"As of mid-2024 to early 2025, the population of New York City itself is estimated to be approximately between 8.25 million and 8.48 million people, depending on the source.\",\\n  \"justification\": \"According to the New York City Department of City Planning, the city’s population reached about 8.48 million by July 2024, marking growth after pandemic-related declines[3][4]. Other sources estimate around 8.26 million to 8.26 million inhabitants in the city for 2025[5]. These figures specifically refer to the city proper, encompassing all five boroughs. In contrast, the wider New York City metropolitan area population is much larger, estimated at about 19.15 million in 2025[1]. The discrepancy arises because the metropolitan area includes surrounding counties and suburbs beyond the official city limits. Therefore, the most precise answer for the number of people living within New York City itself is roughly 8.3 to 8.5 million as of 2024–2025.\"\\n}'"
      ]
     },
     "execution_count": 7,
     "metadata": {},
     "output_type": "execute_result"
    }
   ],
   "source": [
    "from pydantic import BaseModel\n",
    "from langchain_perplexity import ChatPerplexity\n",
    "\n",
    "class answerWithJustificaction(BaseModel):\n",
    "    answer: str\n",
    "    justification: str\n",
    "\n",
    "llm = ChatPerplexity(api_key=api_key,\n",
    "                       model=\"sonar\",\n",
    "                       temperature=0.9)\n",
    "\n",
    "structuredLLM = llm.with_structured_output(answerWithJustificaction)\n",
    "\n",
    "result =structuredLLM.invoke(\"How many people live in New York City?\")\n",
    "result.model_dump_json(indent=2)"
   ]
  },
  {
   "cell_type": "markdown",
   "id": "f4ee6a9f",
   "metadata": {},
   "source": [
    "### 6. Explore Metadata\n",
    "- Invoke the `ChatPerplexity` model with a query and inspect the `metadata` field in the response.\n",
    "- Identify the `model_name`, `id`, and `usage_metadata` fields. How can this information be useful for optimizing your application?\n"
   ]
  },
  {
   "cell_type": "code",
   "execution_count": 8,
   "id": "332d08ef",
   "metadata": {},
   "outputs": [
    {
     "name": "stdout",
     "output_type": "stream",
     "text": [
      "Model response:\n",
      "content='The ESP32 is a low-cost, energy-efficient microcontroller System-on-Chip (SoC) developed by Espressif Systems, featuring built-in Wi-Fi and Bluetooth connectivity. It typically includes a dual-core Tensilica Xtensa LX6 (or newer models with RISC-V CPUs), running up to 240 MHz, integrated RAM, flash storage, and a variety of peripheral interfaces such as ADC, DAC, UART, SPI, and I2C for connecting sensors and actuators[1][2][3][5].\\n\\nIts combination of wireless communication, processing power, and low energy consumption makes it widely used in IoT applications, wearable devices, and hobbyist projects. The ESP32 supports programming in C/C++ via Arduino IDE and MicroPython, making it accessible for both beginners and advanced developers[2][3]. It is considered a versatile upgrade from earlier microcontrollers like the ESP8266 and many Arduino boards due to its superior wireless features and processing capabilities[3][5].' additional_kwargs={'citations': ['https://www.nabto.com/guide-to-iot-esp-32/', 'https://randomnerdtutorials.com/getting-started-with-esp32/', 'https://blackdevice.com/understanding-esp32-from-basics-to-building-projects/', 'https://www.youtube.com/watch?v=UuxBfKA3U5M', 'https://en.wikipedia.org/wiki/ESP32']} response_metadata={'model_name': 'sonar'} id='run--a1dcc204-3b60-4465-ba16-394a99b7ec64-0' usage_metadata={'input_tokens': 18, 'output_tokens': 200, 'total_tokens': 218}\n",
      "Structured response (JSON):\n",
      "{\n",
      "  \"answer\": \"Yes, the ESP32 is highly suitable for IoT applications due to its built-in Wi-Fi and Bluetooth capabilities, low power consumption, and flexibility. It supports smart home automation, industrial automation, sensor data collection, wireless communication, and robotics, making it ideal for a wide range of IoT devices. Its compatibility with operating systems like FreeRTOS and the availability of comprehensive SDKs like ESP-IDF facilitate development. The ESP32 series, including powerful variants like the ESP32-S3, offer enhanced processing power and security features tailored for complex IoT applications.\",\n",
      "  \"justification\": \"Multiple sources highlight the ESP32's suitability for IoT: it is designed for low-power IoT devices enabling Wi-Fi and Bluetooth connectivity, which is essential for smart homes, industrial automation, and wireless sensor networks[1][2][3]. The chip supports networking, data processing, peer-to-peer connectivity, and hosting web servers, all core for IoT ecosystems[3]. It is cost-effective, energy-efficient, and supported by extensive development tools such as the ESP-IDF SDK and Arduino IDE, easing deployment of IoT projects[2][4]. Additionally, advanced versions like ESP32-S3 provide improved processing, security, and USB support, addressing more sophisticated IoT needs[5]. This comprehensive feature set confirms the ESP32's strong suitability for IoT applications.\"\n",
      "}\n"
     ]
    }
   ],
   "source": [
    "# Example: Using Perplexity API with custom prompt and structured output\n",
    "\n",
    "# Create a custom system message to set the assistant's expertise\n",
    "system_msg = SystemMessage(content=\"You are an expert in embedded systems and electronics.\")\n",
    "\n",
    "# Create a human message with a relevant question\n",
    "user_msg = HumanMessage(content=\"What is an ESP32 microcontroller?\")\n",
    "\n",
    "# Combine messages into a list\n",
    "messages = [system_msg, user_msg]\n",
    "\n",
    "# Invoke the model with the custom prompt\n",
    "response = model.invoke(messages)\n",
    "print(\"Model response:\")\n",
    "print(response)\n",
    "\n",
    "# Define a structured output class using Pydantic\n",
    "class AnswerWithJustification(BaseModel):\n",
    "    answer: str\n",
    "    justification: str\n",
    "\n",
    "# Create a structured LLM using the Perplexity model\n",
    "structured_llm = model.with_structured_output(AnswerWithJustification)\n",
    "\n",
    "# Ask a question and get a structured response\n",
    "structured_response = structured_llm.invoke(\"Is ESP32 suitable for IoT applications?\")\n",
    "print(\"Structured response (JSON):\")\n",
    "print(structured_response.model_dump_json(indent=2))"
   ]
  },
  {
   "cell_type": "markdown",
   "id": "6277f51b",
   "metadata": {},
   "source": [
    "These exercises are designed to help you apply the concepts discussed in this chapter and gain hands-on experience with LangChain and Perplexity. Feel free to experiment and adapt the examples to your specific use cases. In the next chapter, we will build on these foundations to explore more advanced techniques and workflows."
   ]
  }
 ],
 "metadata": {
  "kernelspec": {
   "display_name": "Python 3",
   "language": "python",
   "name": "python3"
  },
  "language_info": {
   "codemirror_mode": {
    "name": "ipython",
    "version": 3
   },
   "file_extension": ".py",
   "mimetype": "text/x-python",
   "name": "python",
   "nbconvert_exporter": "python",
   "pygments_lexer": "ipython3",
   "version": "3.10.12"
  }
 },
 "nbformat": 4,
 "nbformat_minor": 5
}
